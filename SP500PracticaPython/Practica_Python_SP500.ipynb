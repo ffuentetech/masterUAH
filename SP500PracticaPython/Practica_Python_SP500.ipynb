{
 "cells": [
  {
   "cell_type": "markdown",
   "metadata": {},
   "source": [
    "# Práctica Python\n",
    "## Alumnos: _Tania Batista, Fernando de la Fuente, Lourdes Ruiz_\n",
    "## Tema: Análisis del S&P 500\n",
    "### Profesor: _Miguel Angel Sicilia_"
   ]
  },
  {
   "cell_type": "markdown",
   "metadata": {},
   "source": [
    "Hemos elegido para la práctica una tabla de datos que contiene las cotizaciones de 503 valores que componen el índice de bolsa americana S&P 500 de 5 años, desde el 13 de Agosto de 2012 hasta el 11 de Agosto de 2017.\n",
    "Los datos están extraídos de Kaggle, en el siguiente repositorio:\n",
    "\n",
    "[Kaggle S&P 500](https://www.kaggle.com/camnugent/sandp500/)\n",
    "\n",
    "A partir de estos datos, sin tener los datos del índice, sino los de los valores que lo componen, haremos algunos estudios, así como la composición de un índice sintético.\n",
    "Deicidimos componer un sintético debido a que:\n",
    "* El índice real varía diariamente el peso de cada uno de los valores que lo componen, y el acceso a esta información que es necesaria para componer el índice real es de pago. \n",
    "* Periodicamente se reune un comité que decide qué valores entran y salen del índice, y a lo largo de los 5 años de los que tenemos datos ha habido varios valores que han entrado y otros que han salido. Nuestra base de datos contiene información de los 503 valores que componían el índice en fecha 14 de Agosto de 2017, y sobre esta información es sobre la que trabajaremos.\n",
    "\n",
    "Por tanto, debido a estas limitaciones no es posible recomponer el índice real y comprobar los datos obtenidos con los de cualquier otra fuente, y en consecuencia fabricaremos uno sintético asumiendo que en el periodo no ha variado la composición, y todos los valores tienen el mismo peso."
   ]
  },
  {
   "cell_type": "markdown",
   "metadata": {},
   "source": [
    "Comenzamos por tanto la práctica.\n",
    "\n",
    "Lo primero sería cargar los datos, y volcarlos a un data frame."
   ]
  },
  {
   "cell_type": "code",
   "execution_count": 44,
   "metadata": {},
   "outputs": [
    {
     "name": "stdout",
     "output_type": "stream",
     "text": [
      "         Date   Open   High    Low  Close     Volume Name\n",
      "0  2012-08-13  92.29  92.59  91.74  92.40  2075391.0  MMM\n",
      "1  2012-08-14  92.36  92.50  92.01  92.30  1843476.0  MMM\n",
      "2  2012-08-15  92.00  92.74  91.94  92.54  1983395.0  MMM\n",
      "3  2012-08-16  92.75  93.87  92.21  93.74  3395145.0  MMM\n",
      "4  2012-08-17  93.93  94.30  93.59  94.24  3069513.0  MMM\n",
      "5  2012-08-20  94.00  94.17  93.55  93.89  1640008.0  MMM\n",
      "6  2012-08-21  93.98  94.10  92.99  93.21  2302988.0  MMM\n",
      "7  2012-08-22  92.56  93.36  92.43  92.68  2463908.0  MMM\n",
      "8  2012-08-23  92.65  92.68  91.79  91.98  1823757.0  MMM\n",
      "9  2012-08-24  92.03  92.97  91.94  92.83  1945796.0  MMM\n",
      "              Date   Open   High    Low  Close     Volume Name\n",
      "606791  2017-07-31    NaN    NaN  62.32  62.52  2130374.0  ZTS\n",
      "606792  2017-08-01  62.60  62.69  61.92  62.27  1750974.0  ZTS\n",
      "606793  2017-08-02  62.04  62.21  61.38  61.54  1831228.0  ZTS\n",
      "606794  2017-08-03  61.23  62.47  61.20  62.28  1768815.0  ZTS\n",
      "606795  2017-08-04  62.37  62.85  61.86  62.12  1277542.0  ZTS\n",
      "606796  2017-08-07  62.12  62.34  61.25  61.83  4208287.0  ZTS\n",
      "606797  2017-08-08  60.49  61.00  59.50  60.00  4663668.0  ZTS\n",
      "606798  2017-08-09  59.95  60.87  59.76  60.81  4017297.0  ZTS\n",
      "606799  2017-08-10  60.87  61.37  59.71  59.74  2690725.0  ZTS\n",
      "606800  2017-08-11  60.05  60.22  59.64  59.73  2285863.0  ZTS\n"
     ]
    }
   ],
   "source": [
    "import pandas as pd\n",
    "#import csv, operator\n",
    "path ='C:\\\\Users\\\\ffuen\\\\Desktop\\\\all_stocks_5yr.csv'\n",
    "#path ='https://www.kaggle.com//camnugent//sandp500//downloads//all_stocks_5yr.csv'\n",
    "sp500 = pd.read_csv(path, delimiter=',',decimal='.', header=0)\n",
    "sp = pd.DataFrame(sp500)\n",
    "print(sp.head(10))\n",
    "print(sp.tail(10))"
   ]
  },
  {
   "cell_type": "markdown",
   "metadata": {},
   "source": [
    "Comprobamos la cantidad de información que tiene la tabla, en filas y columnas:"
   ]
  },
  {
   "cell_type": "code",
   "execution_count": 41,
   "metadata": {},
   "outputs": [
    {
     "name": "stdout",
     "output_type": "stream",
     "text": [
      "RangeIndex(start=0, stop=606801, step=1)\n",
      "Index(['Date', 'Open', 'High', 'Low', 'Close', 'Volume', 'Name'], dtype='object')\n"
     ]
    }
   ],
   "source": [
    "print(sp.index)\n",
    "print(sp.columns)"
   ]
  },
  {
   "cell_type": "markdown",
   "metadata": {},
   "source": [
    "Como hemos visto anteriormente, la tabla hacia el final tiene algunos campos vacíos, que se suplen con 'NaN'. \n",
    "\n",
    "Es necesario identificarlos, y sustituirlos para limpiar la tabla antes de trabajar con ella:"
   ]
  },
  {
   "cell_type": "code",
   "execution_count": 42,
   "metadata": {},
   "outputs": [
    {
     "name": "stdout",
     "output_type": "stream",
     "text": [
      "El número de campos vacíos en la columna Date es 0\n",
      "El número de campos vacíos en la columna Open es 384\n",
      "El número de campos vacíos en la columna High es 208\n",
      "El número de campos vacíos en la columna Low es 227\n",
      "El número de campos vacíos en la columna Close es 0\n",
      "El número de campos vacíos en la columna Volume es 406\n",
      "El número de campos vacíos en la columna Name es 0\n"
     ]
    }
   ],
   "source": [
    "print(\"El número de campos vacíos en la columna Date es\",sp[\"Date\"].isnull().sum())\n",
    "print(\"El número de campos vacíos en la columna Open es\",sp[\"Open\"].isnull().sum())\n",
    "print(\"El número de campos vacíos en la columna High es\",sp[\"High\"].isnull().sum())\n",
    "print(\"El número de campos vacíos en la columna Low es\",sp[\"Low\"].isnull().sum())\n",
    "print(\"El número de campos vacíos en la columna Close es\",sp[\"Close\"].isnull().sum())\n",
    "print(\"El número de campos vacíos en la columna Volume es\",sp[\"Volume\"].isnull().sum())\n",
    "print(\"El número de campos vacíos en la columna Name es\",sp[\"Name\"].isnull().sum())\n"
   ]
  },
  {
   "cell_type": "markdown",
   "metadata": {},
   "source": [
    "Como vemos, los campos vacíos se encuentran en algunas columnas, no todas. \n",
    "Antes de decidir qué hacer con ellos, hagamos un análisis de qué información es la que contiene cada columna:\n",
    "* _Date:_ Contiene la fecha de la información de cada fila.\n",
    "* _Open:_ Es el primer precio al que abrió el valor ese día.\n",
    "* _High:_ El precio más alto negociado en el día.\n",
    "* _Low:_ El precio más bajo negociado en el día.\n",
    "* _Close:_ Indica a qué precio cerró el valor ese día. Este podemos decir que es el dato más importante de la fila.\n",
    "* _Volume:_ Indica el número de acciones negociadas en el día. No todas cambian de manos al mismo precio.\n",
    "* _Name:_ Indica el nombre del valor. Es una abreviatura. Por ejemplo: Amazon sería AMZN."
   ]
  }
 ],
 "metadata": {
  "kernelspec": {
   "display_name": "Python 3",
   "language": "python",
   "name": "python3"
  },
  "language_info": {
   "codemirror_mode": {
    "name": "ipython",
    "version": 3
   },
   "file_extension": ".py",
   "mimetype": "text/x-python",
   "name": "python",
   "nbconvert_exporter": "python",
   "pygments_lexer": "ipython3",
   "version": "3.6.3"
  }
 },
 "nbformat": 4,
 "nbformat_minor": 2
}
